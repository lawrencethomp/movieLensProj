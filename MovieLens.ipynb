{
 "cells": [
  {
   "cell_type": "markdown",
   "metadata": {},
   "source": [
    "# Movie Lens Project:\n",
    "\n",
    "   A linear regression project examining what factors predict a movie being past the curve.\n",
    "   #### A Lawrence and Oreva project for COMP840.\n",
    "***\t\n",
    "\n"
   ]
  },
  {
   "cell_type": "markdown",
   "metadata": {},
   "source": [
    "## The Assignment:\n",
    "Taken from [here](https://mycourses.unh.edu/courses/48074/assignments/306480)\n",
    "***\t\n",
    "\n",
    "\n",
    "- Must use a Regression technique\n",
    "- Must use a real data set (not fake data set, i.e. randomly generated numbers) The data set must be at least contain > 10k records. \n",
    "- Must have Juypter Notebook Documentation\n",
    "- Do exploratory data exploration using graphs  (5%)\n",
    "- Explain tradeoffs made in feature engineering and feature selection. (10%)\n",
    "- Explain the tradeoffs you made in model selection.<br> \n",
    "  Include your model choices and hyper-parameter tuning.  (10%)\n",
    "- Must explain in detail how you evaluate the accuracy of model (10%)\n"
   ]
  },
  {
   "cell_type": "markdown",
   "metadata": {},
   "source": [
    " From Hands-On Machine Learning with Scikit-Learn and TensorFlow: \"\"\n"
   ]
  },
  {
   "cell_type": "markdown",
   "metadata": {},
   "source": [
    "## The Problem:\n",
    "***\n",
    "\n",
    "There's too much data in the Movie Lens Database to be able to make major conclusions about the opinions from people who \n",
    "rate movies on the website by a cursory glance-- the review csv is 20 million lines alone! That'll crash most versions of Microsoft Office if not wholly render them useless. \n",
    "\n",
    "It hasn't really been established what factors can help predict whether whether MovieLens users would enjoy a movie or dislike it. From what the data shows, MovieLens users are very much male -- a previous data set sampled 6040 users, with an output of around 71% male, aged 30 and a half years old. It would probably be safe to say that these men happen to be [largely white](https://www.latimes.com/entertainment/la-et-entertainment-news-updates-2018-no-surprise-at-all-new-study-says-most-1528730858-htmlstory.html), which is who came to the website to review, so that might be an indicator of what they enjoy. \n",
    "\n",
    "Simply put, they're the coveted 18-34 demographic that largely has a lot of disposable income, and we're asking the question: _what do these guys like?_ How will this determine some of our hypotheses? They won't be the same as if we grabbed some guys off the street or your brother/husband/friend etc; this is a subset of guys who think about movies enough to go onto a niche website and contribute their opinions.\n",
    "    \n",
    "    \n",
    "The purpose of this project is to **determine whether MovieLens users would enjoy a movie based on known traits of a movie, pulled in from other \n",
    "sources. Simply put, is it over, or under?** \n",
    "\n",
    "From sampling over 27k movies, the average score of a movieLens movie is 3.07. Movies will be explored to see whether or not they scored above this threshold.\n"
   ]
  },
  {
   "cell_type": "markdown",
   "metadata": {},
   "source": [
    "## The Solution:\n",
    "***\n",
    "Use Linear Regression. [Linear Regression](https://towardsdatascience.com/introduction-to-machine-learning-algorithms-linear-regression-14c4e325882a) is the \"modeling of a target value based on independent predictors\". The value we're looking to obtain is whether the movie scored above or below the median average, the dependent variable, based off of factors such as the genre, awards, year, appearance on lists.\n",
    "\n",
    "The techniques that we use for this project will be based off the article from Towards Data Science on Medium titled _Introduction to Machine Learning Algorithms: Linear Regression_, where the writer Rohith Gandhi takes the scikit learn library to build a linear regression model."
   ]
  },
  {
   "cell_type": "markdown",
   "metadata": {},
   "source": [
    "## The Data: \n",
    "***\t\n",
    "The Data we're using is going to be from the small Movie Lens Project when working \n",
    "through the samples and establish a basis, and then the large to work with a larger dataset\n",
    "    \n",
    "   MongoDB was chosen as the Database Type due to its malleability and ease of use compared to the csv. \n",
    "    For instance - an array of items lives on an individual cell when converted to a pandas dataset easier than a \n",
    "    CSV file will. Feature engineering is also a little easier to do in MongoDB by setting database keys than on a\n",
    "    pandas dataset, and lives persistently in a database, but without the tradeoff of the largesse of a relational \n",
    "    database, which has its home in another project type.\n",
    "    \n",
    "   PyMongo and the Python language in general was chosen as the programming language due to language uniformity. Jupyter \n",
    "    Notebook, numpy, and pandas are all very Python friendly -- if not built in Python, and thus to save time, the database\n",
    "    should be interacted with in Python, as well. Python can strongly parse a csv sheet compared to JavaScript, for \n",
    "    instance, which requires that csv be installed via NodeJS.  The code shows that Python is very much a scripting language\n",
    "    and needs to be refactored to use design patterns and respect DRY -- don't repeat yourself.\n",
    "    \n",
    "   This dataset is also an amalgamation of serveral different types of data -- using the id of the movieLens movie, we were\n",
    "    able to link it to the IMDB id, which gave us functionality through having more robustness of data and more accurate   \n",
    "    datasets. Some of the other datasets also include .dat and .tsv files, where adding them in before into the database is \n",
    "    far easier than parsing at the point of transaction. Given that this set has parsed 20 million reviews into around 25k \n",
    "    movies, going with MongoDB was a very wise choice.\n",
    "    \n",
    "    The data parsed is as follows:\n",
    "        users.dat - demographic information to determine that MovieLens skewers younger, and male.\n",
    "        links.csv - used to get the imdbId of movies, so that other information like the review scores can be \n",
    "        scraped/processed.\n",
    "        movies.csv - a list of all movies titles, ids, and genres.\n",
    "        ratings.csv - a csv of all ratings, sent to MongoDB using the ID."
   ]
  },
  {
   "cell_type": "markdown",
   "metadata": {},
   "source": [
    "## How the Data Was Built:\n",
    "***\n"
   ]
  },
  {
   "cell_type": "markdown",
   "metadata": {},
   "source": [
    "<img src=\"data_flow.png\">\n",
    "\n",
    "The current flow of the data, including dependencies"
   ]
  },
  {
   "cell_type": "markdown",
   "metadata": {},
   "source": [
    "## The Properties: \n",
    "***\n",
    "   The Properties currently in use are as follows:\n",
    "   -  **movieId** ( _string_ ): The Id of the movie, used to link the movie to MovieLens and IMDB. \n",
    "   -  **title** ( *string* ): The name of the movie, used to obtain the year of release and a human-friendly title.\n",
    "   -  **genre** (*List*): The list of genres the movie is identified with.    \n",
    "   -  **rating** (*List*): A list of floating numbers users have rated this movie.\n",
    "   -  **average_rating** (*float*): A median review score averaged from ratings from all the users.\n",
    "   -  **imdbId** (*string*): the ImdbId used to get information from IMDB via datasets or scraping.\n",
    "   -  **imdbId** (*float*): a median review compiled of all reviews given by imdb users.\n",
    "   -  **rom_com** (*Boolean*): if movie is a Romantic Comedy/Drama. MovieLens skews male, so these movies may rate low.\n",
    "   -  **classic_movie** (*Boolean*): checks whether or not the movie was released before 1980.\n",
    "   -  **release_year** (*Int*): the year the movie was released.\n",
    "   -  **num_genres** (*Int*): the number of genres the movie has been identified as.\n",
    "   -  **num_ratings** *(Int*): The number of reviews that have been submitted."
   ]
  },
  {
   "cell_type": "markdown",
   "metadata": {},
   "source": [
    "## Building the Code: \n",
    "***"
   ]
  },
  {
   "cell_type": "code",
   "execution_count": 1,
   "metadata": {},
   "outputs": [],
   "source": [
    "import pandas as pd\n",
    "from sklearn import linear_model\n",
    "import statsmodels.api as sm\n",
    "from sklearn.linear_model import LinearRegression\n",
    "from sklearn.isotonic import IsotonicRegression\n",
    "from sklearn.utils import check_random_state\n",
    "import numpy as np\n",
    "\n",
    "\n",
    "# make import statements to work with mongoDB\n",
    "# mongoDB will run the data the same way as a csv.\n",
    "import pymongo\n",
    "from pymongo import MongoClient\n",
    "client = MongoClient('mongodb://localhost:27017/')\n",
    "db = client[\"movieLens\"]\n",
    "collection = db['movies']"
   ]
  },
  {
   "cell_type": "code",
   "execution_count": 2,
   "metadata": {},
   "outputs": [
    {
     "data": {
      "text/plain": [
       "(18988, 20)"
      ]
     },
     "execution_count": 2,
     "metadata": {},
     "output_type": "execute_result"
    }
   ],
   "source": [
    "data = pd.DataFrame(list(db.movies.find()))\n",
    "data.shape\n",
    "# Build Train and Test values\n",
    "# df_train = data.iloc\n",
    "# df_test = data\n",
    "# Convert values to np array"
   ]
  },
  {
   "cell_type": "code",
   "execution_count": 3,
   "metadata": {},
   "outputs": [
    {
     "data": {
      "text/plain": [
       "Index(['_id', 'average_rating', 'awards', 'classic_movie', 'formatted_title',\n",
       "       'genre', 'imdbId', 'imdbId_review', 'imdb_consensus', 'movieId',\n",
       "       'num_awards', 'num_genres', 'num_ratings', 'over_under', 'release_year',\n",
       "       'return_document', 'rom_com', 'title', 'top_250', 'upsert'],\n",
       "      dtype='object')"
      ]
     },
     "execution_count": 3,
     "metadata": {},
     "output_type": "execute_result"
    }
   ],
   "source": [
    "data.keys()"
   ]
  },
  {
   "cell_type": "code",
   "execution_count": null,
   "metadata": {},
   "outputs": [],
   "source": [
    "# data = data.drop(columns=[\"awards\", \"average_rating\", \"formatted_title\", \"rom_com\", \"upsert\", \"title\", \"genre\", \"num_ratings\", \"release_year\", \"_id\", \"imdbId\", \"return_document\"  ])"
   ]
  },
  {
   "cell_type": "code",
   "execution_count": 4,
   "metadata": {},
   "outputs": [
    {
     "data": {
      "text/html": [
       "<div>\n",
       "<style scoped>\n",
       "    .dataframe tbody tr th:only-of-type {\n",
       "        vertical-align: middle;\n",
       "    }\n",
       "\n",
       "    .dataframe tbody tr th {\n",
       "        vertical-align: top;\n",
       "    }\n",
       "\n",
       "    .dataframe thead th {\n",
       "        text-align: right;\n",
       "    }\n",
       "</style>\n",
       "<table border=\"1\" class=\"dataframe\">\n",
       "  <thead>\n",
       "    <tr style=\"text-align: right;\">\n",
       "      <th></th>\n",
       "      <th>_id</th>\n",
       "      <th>average_rating</th>\n",
       "      <th>awards</th>\n",
       "      <th>classic_movie</th>\n",
       "      <th>formatted_title</th>\n",
       "      <th>genre</th>\n",
       "      <th>imdbId</th>\n",
       "      <th>imdbId_review</th>\n",
       "      <th>imdb_consensus</th>\n",
       "      <th>movieId</th>\n",
       "      <th>num_awards</th>\n",
       "      <th>num_genres</th>\n",
       "      <th>num_ratings</th>\n",
       "      <th>over_under</th>\n",
       "      <th>release_year</th>\n",
       "      <th>return_document</th>\n",
       "      <th>rom_com</th>\n",
       "      <th>title</th>\n",
       "      <th>top_250</th>\n",
       "      <th>upsert</th>\n",
       "    </tr>\n",
       "  </thead>\n",
       "  <tbody>\n",
       "    <tr>\n",
       "      <th>0</th>\n",
       "      <td>5bf336a3af113733c02bfb5e</td>\n",
       "      <td>3.92</td>\n",
       "      <td>[0, 0, 0]</td>\n",
       "      <td>0</td>\n",
       "      <td>Toy Story</td>\n",
       "      <td>[Adventure, Animation, Children, Comedy, Fantasy]</td>\n",
       "      <td>0114709</td>\n",
       "      <td>4.15</td>\n",
       "      <td>1</td>\n",
       "      <td>1</td>\n",
       "      <td>3</td>\n",
       "      <td>5</td>\n",
       "      <td>49702</td>\n",
       "      <td>1</td>\n",
       "      <td>1995</td>\n",
       "      <td>True</td>\n",
       "      <td>0</td>\n",
       "      <td>Toy Story (1995)</td>\n",
       "      <td>1</td>\n",
       "      <td>True</td>\n",
       "    </tr>\n",
       "    <tr>\n",
       "      <th>1</th>\n",
       "      <td>5bf336a3af113733c02bfb5f</td>\n",
       "      <td>3.21</td>\n",
       "      <td>NaN</td>\n",
       "      <td>0</td>\n",
       "      <td>Jumanji</td>\n",
       "      <td>[Adventure, Children, Fantasy]</td>\n",
       "      <td>0113497</td>\n",
       "      <td>3.45</td>\n",
       "      <td>1</td>\n",
       "      <td>2</td>\n",
       "      <td>0</td>\n",
       "      <td>3</td>\n",
       "      <td>22247</td>\n",
       "      <td>1</td>\n",
       "      <td>1995</td>\n",
       "      <td>True</td>\n",
       "      <td>0</td>\n",
       "      <td>Jumanji (1995)</td>\n",
       "      <td>0</td>\n",
       "      <td>True</td>\n",
       "    </tr>\n",
       "    <tr>\n",
       "      <th>2</th>\n",
       "      <td>5bf336a3af113733c02bfb60</td>\n",
       "      <td>3.15</td>\n",
       "      <td>NaN</td>\n",
       "      <td>0</td>\n",
       "      <td>Grumpier Old Men</td>\n",
       "      <td>[Comedy, Romance]</td>\n",
       "      <td>0113228</td>\n",
       "      <td>3.30</td>\n",
       "      <td>1</td>\n",
       "      <td>3</td>\n",
       "      <td>0</td>\n",
       "      <td>2</td>\n",
       "      <td>12738</td>\n",
       "      <td>1</td>\n",
       "      <td>1995</td>\n",
       "      <td>True</td>\n",
       "      <td>1</td>\n",
       "      <td>Grumpier Old Men (1995)</td>\n",
       "      <td>0</td>\n",
       "      <td>True</td>\n",
       "    </tr>\n",
       "    <tr>\n",
       "      <th>3</th>\n",
       "      <td>5bf336a3af113733c02bfb61</td>\n",
       "      <td>2.86</td>\n",
       "      <td>NaN</td>\n",
       "      <td>0</td>\n",
       "      <td>Waiting to Exhale</td>\n",
       "      <td>[Comedy, Drama, Romance]</td>\n",
       "      <td>0114885</td>\n",
       "      <td>2.90</td>\n",
       "      <td>0</td>\n",
       "      <td>4</td>\n",
       "      <td>0</td>\n",
       "      <td>3</td>\n",
       "      <td>2756</td>\n",
       "      <td>0</td>\n",
       "      <td>1995</td>\n",
       "      <td>True</td>\n",
       "      <td>0</td>\n",
       "      <td>Waiting to Exhale (1995)</td>\n",
       "      <td>0</td>\n",
       "      <td>True</td>\n",
       "    </tr>\n",
       "    <tr>\n",
       "      <th>4</th>\n",
       "      <td>5bf336a3af113733c02bfb62</td>\n",
       "      <td>3.06</td>\n",
       "      <td>NaN</td>\n",
       "      <td>0</td>\n",
       "      <td>Father of the Bride Part II</td>\n",
       "      <td>[Comedy]</td>\n",
       "      <td>0113041</td>\n",
       "      <td>3.00</td>\n",
       "      <td>1</td>\n",
       "      <td>5</td>\n",
       "      <td>0</td>\n",
       "      <td>1</td>\n",
       "      <td>12165</td>\n",
       "      <td>0</td>\n",
       "      <td>1995</td>\n",
       "      <td>True</td>\n",
       "      <td>1</td>\n",
       "      <td>Father of the Bride Part II (1995)</td>\n",
       "      <td>0</td>\n",
       "      <td>True</td>\n",
       "    </tr>\n",
       "  </tbody>\n",
       "</table>\n",
       "</div>"
      ],
      "text/plain": [
       "                        _id  average_rating     awards  classic_movie  \\\n",
       "0  5bf336a3af113733c02bfb5e            3.92  [0, 0, 0]              0   \n",
       "1  5bf336a3af113733c02bfb5f            3.21        NaN              0   \n",
       "2  5bf336a3af113733c02bfb60            3.15        NaN              0   \n",
       "3  5bf336a3af113733c02bfb61            2.86        NaN              0   \n",
       "4  5bf336a3af113733c02bfb62            3.06        NaN              0   \n",
       "\n",
       "               formatted_title  \\\n",
       "0                    Toy Story   \n",
       "1                      Jumanji   \n",
       "2             Grumpier Old Men   \n",
       "3            Waiting to Exhale   \n",
       "4  Father of the Bride Part II   \n",
       "\n",
       "                                               genre   imdbId  imdbId_review  \\\n",
       "0  [Adventure, Animation, Children, Comedy, Fantasy]  0114709           4.15   \n",
       "1                     [Adventure, Children, Fantasy]  0113497           3.45   \n",
       "2                                  [Comedy, Romance]  0113228           3.30   \n",
       "3                           [Comedy, Drama, Romance]  0114885           2.90   \n",
       "4                                           [Comedy]  0113041           3.00   \n",
       "\n",
       "   imdb_consensus movieId  num_awards  num_genres  num_ratings  over_under  \\\n",
       "0               1       1           3           5        49702           1   \n",
       "1               1       2           0           3        22247           1   \n",
       "2               1       3           0           2        12738           1   \n",
       "3               0       4           0           3         2756           0   \n",
       "4               1       5           0           1        12165           0   \n",
       "\n",
       "   release_year  return_document  rom_com                               title  \\\n",
       "0          1995             True        0                    Toy Story (1995)   \n",
       "1          1995             True        0                      Jumanji (1995)   \n",
       "2          1995             True        1             Grumpier Old Men (1995)   \n",
       "3          1995             True        0            Waiting to Exhale (1995)   \n",
       "4          1995             True        1  Father of the Bride Part II (1995)   \n",
       "\n",
       "   top_250  upsert  \n",
       "0        1    True  \n",
       "1        0    True  \n",
       "2        0    True  \n",
       "3        0    True  \n",
       "4        0    True  "
      ]
     },
     "execution_count": 4,
     "metadata": {},
     "output_type": "execute_result"
    }
   ],
   "source": [
    "data.head()"
   ]
  },
  {
   "cell_type": "code",
   "execution_count": 5,
   "metadata": {},
   "outputs": [
    {
     "data": {
      "text/plain": [
       "<bound method DataFrame.sum of          _id  average_rating  awards  classic_movie  formatted_title  genre  \\\n",
       "0      False           False   False          False            False  False   \n",
       "1      False           False    True          False            False  False   \n",
       "2      False           False    True          False            False  False   \n",
       "3      False           False    True          False            False  False   \n",
       "4      False           False    True          False            False  False   \n",
       "5      False           False    True          False            False  False   \n",
       "6      False           False   False          False            False  False   \n",
       "7      False           False    True          False            False  False   \n",
       "8      False           False    True          False            False  False   \n",
       "9      False           False    True          False            False  False   \n",
       "10     False           False    True          False            False  False   \n",
       "11     False           False    True          False            False  False   \n",
       "12     False           False    True          False            False  False   \n",
       "13     False           False   False          False            False  False   \n",
       "14     False           False    True          False            False  False   \n",
       "15     False           False    True          False            False  False   \n",
       "16     False           False   False          False            False  False   \n",
       "17     False           False    True          False            False  False   \n",
       "18     False           False    True          False            False  False   \n",
       "19     False           False    True          False            False  False   \n",
       "20     False           False    True          False            False  False   \n",
       "21     False           False    True          False            False  False   \n",
       "22     False           False    True          False            False  False   \n",
       "23     False           False    True          False            False  False   \n",
       "24     False           False   False          False            False  False   \n",
       "25     False           False    True          False            False  False   \n",
       "26     False           False    True          False            False  False   \n",
       "27     False           False    True          False            False  False   \n",
       "28     False           False    True          False            False  False   \n",
       "29     False           False   False          False            False  False   \n",
       "...      ...             ...     ...            ...              ...    ...   \n",
       "18958  False           False    True          False            False  False   \n",
       "18959  False           False    True          False            False  False   \n",
       "18960  False           False    True          False            False  False   \n",
       "18961  False           False    True          False            False  False   \n",
       "18962  False           False    True          False            False  False   \n",
       "18963  False           False    True          False            False  False   \n",
       "18964  False           False    True          False            False  False   \n",
       "18965  False           False    True          False            False  False   \n",
       "18966  False           False    True          False            False  False   \n",
       "18967  False           False    True          False            False  False   \n",
       "18968  False           False    True          False            False  False   \n",
       "18969  False           False    True          False            False  False   \n",
       "18970  False           False    True          False            False  False   \n",
       "18971  False           False    True          False            False  False   \n",
       "18972  False           False    True          False            False  False   \n",
       "18973  False           False    True          False            False  False   \n",
       "18974  False           False    True          False            False  False   \n",
       "18975  False           False    True          False            False  False   \n",
       "18976  False           False    True          False            False  False   \n",
       "18977  False           False    True          False            False  False   \n",
       "18978  False           False    True          False            False  False   \n",
       "18979  False           False    True          False            False  False   \n",
       "18980  False           False    True          False            False  False   \n",
       "18981  False           False    True          False            False  False   \n",
       "18982  False           False    True          False            False  False   \n",
       "18983  False           False    True          False            False  False   \n",
       "18984  False           False    True          False            False  False   \n",
       "18985  False           False    True          False            False  False   \n",
       "18986  False           False    True          False            False  False   \n",
       "18987  False           False    True          False            False  False   \n",
       "\n",
       "       imdbId  imdbId_review  imdb_consensus  movieId  num_awards  num_genres  \\\n",
       "0       False          False           False    False       False       False   \n",
       "1       False          False           False    False       False       False   \n",
       "2       False          False           False    False       False       False   \n",
       "3       False          False           False    False       False       False   \n",
       "4       False          False           False    False       False       False   \n",
       "5       False          False           False    False       False       False   \n",
       "6       False          False           False    False       False       False   \n",
       "7       False          False           False    False       False       False   \n",
       "8       False          False           False    False       False       False   \n",
       "9       False          False           False    False       False       False   \n",
       "10      False          False           False    False       False       False   \n",
       "11      False          False           False    False       False       False   \n",
       "12      False          False           False    False       False       False   \n",
       "13      False          False           False    False       False       False   \n",
       "14      False          False           False    False       False       False   \n",
       "15      False          False           False    False       False       False   \n",
       "16      False          False           False    False       False       False   \n",
       "17      False          False           False    False       False       False   \n",
       "18      False          False           False    False       False       False   \n",
       "19      False          False           False    False       False       False   \n",
       "20      False          False           False    False       False       False   \n",
       "21      False          False           False    False       False       False   \n",
       "22      False          False           False    False       False       False   \n",
       "23      False          False           False    False       False       False   \n",
       "24      False          False           False    False       False       False   \n",
       "25      False          False           False    False       False       False   \n",
       "26      False          False           False    False       False       False   \n",
       "27      False          False           False    False       False       False   \n",
       "28      False          False           False    False       False       False   \n",
       "29      False          False           False    False       False       False   \n",
       "...       ...            ...             ...      ...         ...         ...   \n",
       "18958   False          False           False    False       False       False   \n",
       "18959   False          False           False    False       False       False   \n",
       "18960   False          False           False    False       False       False   \n",
       "18961   False          False           False    False       False       False   \n",
       "18962   False          False           False    False       False       False   \n",
       "18963   False          False           False    False       False       False   \n",
       "18964   False          False           False    False       False       False   \n",
       "18965   False          False           False    False       False       False   \n",
       "18966   False          False           False    False       False       False   \n",
       "18967   False          False           False    False       False       False   \n",
       "18968   False          False           False    False       False       False   \n",
       "18969   False          False           False    False       False       False   \n",
       "18970   False          False           False    False       False       False   \n",
       "18971   False          False           False    False       False       False   \n",
       "18972   False          False           False    False       False       False   \n",
       "18973   False          False           False    False       False       False   \n",
       "18974   False          False           False    False       False       False   \n",
       "18975   False          False           False    False       False       False   \n",
       "18976   False          False           False    False       False       False   \n",
       "18977   False          False           False    False       False       False   \n",
       "18978   False          False           False    False       False       False   \n",
       "18979   False          False           False    False       False       False   \n",
       "18980   False          False           False    False       False       False   \n",
       "18981   False          False           False    False       False       False   \n",
       "18982   False          False           False    False       False       False   \n",
       "18983   False          False           False    False       False       False   \n",
       "18984   False          False           False    False       False       False   \n",
       "18985   False          False           False    False       False       False   \n",
       "18986   False          False           False    False       False       False   \n",
       "18987   False          False           False    False       False       False   \n",
       "\n",
       "       num_ratings  over_under  release_year  return_document  rom_com  title  \\\n",
       "0            False       False         False            False    False  False   \n",
       "1            False       False         False            False    False  False   \n",
       "2            False       False         False            False    False  False   \n",
       "3            False       False         False            False    False  False   \n",
       "4            False       False         False            False    False  False   \n",
       "5            False       False         False            False    False  False   \n",
       "6            False       False         False            False    False  False   \n",
       "7            False       False         False            False    False  False   \n",
       "8            False       False         False            False    False  False   \n",
       "9            False       False         False            False    False  False   \n",
       "10           False       False         False            False    False  False   \n",
       "11           False       False         False            False    False  False   \n",
       "12           False       False         False            False    False  False   \n",
       "13           False       False         False            False    False  False   \n",
       "14           False       False         False            False    False  False   \n",
       "15           False       False         False            False    False  False   \n",
       "16           False       False         False            False    False  False   \n",
       "17           False       False         False            False    False  False   \n",
       "18           False       False         False            False    False  False   \n",
       "19           False       False         False            False    False  False   \n",
       "20           False       False         False            False    False  False   \n",
       "21           False       False         False            False    False  False   \n",
       "22           False       False         False            False    False  False   \n",
       "23           False       False         False            False    False  False   \n",
       "24           False       False         False            False    False  False   \n",
       "25           False       False         False            False    False  False   \n",
       "26           False       False         False            False    False  False   \n",
       "27           False       False         False            False    False  False   \n",
       "28           False       False         False            False    False  False   \n",
       "29           False       False         False            False    False  False   \n",
       "...            ...         ...           ...              ...      ...    ...   \n",
       "18958        False       False         False            False    False  False   \n",
       "18959        False       False         False            False    False  False   \n",
       "18960        False       False         False            False    False  False   \n",
       "18961        False       False         False            False    False  False   \n",
       "18962        False       False         False            False    False  False   \n",
       "18963        False       False         False            False    False  False   \n",
       "18964        False       False         False            False    False  False   \n",
       "18965        False       False         False            False    False  False   \n",
       "18966        False       False         False            False    False  False   \n",
       "18967        False       False         False            False    False  False   \n",
       "18968        False       False         False            False    False  False   \n",
       "18969        False       False         False            False    False  False   \n",
       "18970        False       False         False            False    False  False   \n",
       "18971        False       False         False            False    False  False   \n",
       "18972        False       False         False            False    False  False   \n",
       "18973        False       False         False            False    False  False   \n",
       "18974        False       False         False            False    False  False   \n",
       "18975        False       False         False            False    False  False   \n",
       "18976        False       False         False            False    False  False   \n",
       "18977        False       False         False            False    False  False   \n",
       "18978        False       False         False            False    False  False   \n",
       "18979        False       False         False            False    False  False   \n",
       "18980        False       False         False            False    False  False   \n",
       "18981        False       False         False            False    False  False   \n",
       "18982        False       False         False            False    False  False   \n",
       "18983        False       False         False            False    False  False   \n",
       "18984        False       False         False            False    False  False   \n",
       "18985        False       False         False            False    False  False   \n",
       "18986        False       False         False            False    False  False   \n",
       "18987        False       False         False            False    False  False   \n",
       "\n",
       "       top_250  upsert  \n",
       "0        False   False  \n",
       "1        False   False  \n",
       "2        False   False  \n",
       "3        False   False  \n",
       "4        False   False  \n",
       "5        False   False  \n",
       "6        False   False  \n",
       "7        False   False  \n",
       "8        False   False  \n",
       "9        False   False  \n",
       "10       False   False  \n",
       "11       False   False  \n",
       "12       False   False  \n",
       "13       False   False  \n",
       "14       False   False  \n",
       "15       False   False  \n",
       "16       False   False  \n",
       "17       False   False  \n",
       "18       False   False  \n",
       "19       False   False  \n",
       "20       False   False  \n",
       "21       False   False  \n",
       "22       False   False  \n",
       "23       False   False  \n",
       "24       False   False  \n",
       "25       False   False  \n",
       "26       False   False  \n",
       "27       False   False  \n",
       "28       False   False  \n",
       "29       False   False  \n",
       "...        ...     ...  \n",
       "18958    False   False  \n",
       "18959    False   False  \n",
       "18960    False   False  \n",
       "18961    False   False  \n",
       "18962    False   False  \n",
       "18963    False   False  \n",
       "18964    False   False  \n",
       "18965    False   False  \n",
       "18966    False   False  \n",
       "18967    False   False  \n",
       "18968    False   False  \n",
       "18969    False   False  \n",
       "18970    False   False  \n",
       "18971    False   False  \n",
       "18972    False   False  \n",
       "18973    False   False  \n",
       "18974    False   False  \n",
       "18975    False   False  \n",
       "18976    False   False  \n",
       "18977    False   False  \n",
       "18978    False   False  \n",
       "18979    False   False  \n",
       "18980    False   False  \n",
       "18981    False   False  \n",
       "18982    False   False  \n",
       "18983    False   False  \n",
       "18984    False   False  \n",
       "18985    False   False  \n",
       "18986    False   False  \n",
       "18987    False   False  \n",
       "\n",
       "[18988 rows x 20 columns]>"
      ]
     },
     "execution_count": 5,
     "metadata": {},
     "output_type": "execute_result"
    }
   ],
   "source": [
    "data.isnull().sum"
   ]
  },
  {
   "cell_type": "markdown",
   "metadata": {},
   "source": [
    "##  Feature Engineering and Feature Selection:\n",
    "***\t\n",
    "**What Determined The Selected Features?**<br>\n",
    "Time is limited, and the kaggle dataset was sparse -- it had the name of the movie, its id, the genres, and the rating, spread among different csv's. <br><br>\n",
    "\n",
    "**Features we Ignored or couldn't implement**\n",
    "***\t\n",
    "\n",
    "*Budget*: Including the budget of the movie adjusted for inflation for 2018 would have been a scraping project -- searching IMDB for the budget of an id, passing it into Mongo, and then using that to determine the budget. This approach didn't account for the indie darlings, and would have required more care beyond the scope of project.<br> <br>\n",
    "*Director*: Getting something like the director is similar to the issues relating to the budget -- more effort to get involved with, and due to directors releasing duds sometimes, not worth it. <br> <br>\n",
    "*Golden Raspberry*: The golden raspberry awards are an awards ceremony trafficing in jokes and superlatives for the worst movies. Many of these awards were jokes, and some of the movies that they declared bad, actually became fan favorites later on. Due to the small selection of movies and short amount of time in existence, the Golden Raspberry might not have beneficial.<br> <br>\n",
    "*FilmStruck*: All the legends from the Turner Classic Movies and Criterion Collection on a now defunct streaming service. Getting these in would involve a combination of string manipulation and website scraping. To assess if this would be worthwhile, movies from the Turner collection were examined for IMDB scores and whether they'd be over or under. Largely, The movies tended to be over, but were not as uniform as the IMDB top 250. Not worth it for the scope of the project vs. the result.<br>\n",
    "\n",
    "**Features we Implemented**\n",
    "***\t\n",
    "\n",
    "*Genres*: The number of genres in a movie determines whether or not it's the much maligned \"genre film\" -- the scholcky horror movie or the derivative action movie, which used to be relegated to the dustbin of history, but thanks to the era of the database, we are haunted with for as long as people care. It seems that having more genres of movies will create a more nuanced movie, making it score over the average. <br> <br>\n",
    "\n",
    "*Year*: Time is a filter, and movies get forgotten, or had limited runs, or aren't available on video/streaming. So modern audiences can't review them for a database. As a result, newer movies, because they are not lost to the aether, are easier to write bad reviews for. A classic movie is defined as anything before 1980, when Spielberg became very known, and it could be said that the auteur director got reigned in. If the movie year > 1980 , it qualifies as a classic movie <br><br>\n",
    "\n",
    "*Awards*: Movies that won Oscars are more likely to have scored better than other movies that didn't. Comparing the score of movies that did to movies that didn't will show this.\n",
    "\n",
    "<br> More information expounding on why we chose certain features will be explained below, with graphs."
   ]
  },
  {
   "cell_type": "markdown",
   "metadata": {},
   "source": [
    "## The Visuals:\n",
    "***\t\n",
    "   **Exploratory Graphs**: We're going to be using some Python libraries in our project for graph visualization"
   ]
  },
  {
   "cell_type": "markdown",
   "metadata": {},
   "source": [
    "![Picture of Graph Choices](https://cdn-images-1.medium.com/max/1000/1*JxbqIQmD_E3M3I7Tjo0OqA.jpeg)\n",
    "\n",
    "So from this image, we should be using a Scatter Plot from [this article](https://towardsdatascience.com/5-quick-and-easy-data-visualizations-in-python-with-code-a2284bae952f)"
   ]
  },
  {
   "cell_type": "code",
   "execution_count": 6,
   "metadata": {},
   "outputs": [],
   "source": [
    "# Decide on a chart type.\n",
    "import matplotlib.pyplot as plt"
   ]
  },
  {
   "cell_type": "markdown",
   "metadata": {},
   "source": [
    "### Do MovieLens Users Have Nostalgia Goggles?\n",
    "***\n",
    "#### _\"Yet, perhaps because of all this, there’s an increasing sense that culture has lost the ability to grasp and articulate the present. Or it could be that, in one very important sense, there is no present to grasp and articulate any more.\"_ -  Mark Fisher, Ghosts of My Life \n",
    "\n",
    "A guiding hypothesis can be made that movieLens users may prefer the older aesthetic of older movies, and thus might end up rating older movies higher than the newer ones. For the sake of this study, older movies are going to be defined as the New Hollywood cinema and anything which came before it -- the prevalence of the spaghetti Western, the big musicals, the weird French cinema, and so on, and so on. \n",
    "\n",
    "With the advent of Spielberg, Lucas, Ridley Scott and many others who wrote film in a more universal language and decoupled meaning from regional restraints and relation -- similar to how a MongoDB isn't relational like MySQL, these movies work in a different paradigm. "
   ]
  },
  {
   "cell_type": "markdown",
   "metadata": {},
   "source": [
    "### Scatter Plot of Genre Numbers vs Score:\n",
    "***\n",
    "    To see if theres a relationship between the number of genres and the score of a movie, \n",
    "    a scatter plot will be created."
   ]
  },
  {
   "cell_type": "code",
   "execution_count": 7,
   "metadata": {},
   "outputs": [
    {
     "data": {
      "image/png": "[encoded data removed]",
      "text/plain": [
       "<Figure size 432x288 with 1 Axes>"
      ]
     },
     "metadata": {
      "needs_background": "light"
     },
     "output_type": "display_data"
    }
   ],
   "source": [
    "# set the x and y data to genres and score.\n",
    "y_data = data[\"average_rating\"]\n",
    "x_data = data[\"num_genres\"]\n",
    "y_label = \"Average Rating\"\n",
    "x_label = \"Number of Genres\"\n",
    "title = \"Comparing the number of genres\"\n",
    "def scatterplot(x_data, y_data, x_label, y_label, title, color=\"r\", yscale_log=False):\n",
    "    _, ax = plt.subplots()\n",
    "    \n",
    "    ax.scatter(x_data, y_data, s = 3, color = color, alpha = 0.75)\n",
    "    \n",
    "    if yscale_log == True:\n",
    "        ax.set_yscale('log')\n",
    "        \n",
    "    # label the axes and provide a title\n",
    "    ax.set_title(title)\n",
    "    ax.set_xlabel(x_label)\n",
    "    ax.set_ylabel(y_label)\n",
    "    \n",
    "scatterplot(x_data, y_data, x_label, y_label, title, color=\"r\", yscale_log=False)  "
   ]
  },
  {
   "cell_type": "markdown",
   "metadata": {},
   "source": [
    "**Output**: From what I can see, theres, a strong correlation between having more genres, \n",
    "            and the rating the movie gets. "
   ]
  },
  {
   "cell_type": "markdown",
   "metadata": {},
   "source": [
    "### Does MovieLens hate RomComs? \n",
    "***\n",
    "    Here, we will test whether the assumption that romantic comedies are rated lower than other \n",
    "    movies holds water."
   ]
  },
  {
   "cell_type": "code",
   "execution_count": 8,
   "metadata": {},
   "outputs": [
    {
     "data": {
      "image/png": "[encoded data removed]",
      "text/plain": [
       "<Figure size 432x288 with 1 Axes>"
      ]
     },
     "metadata": {
      "needs_background": "light"
     },
     "output_type": "display_data"
    }
   ],
   "source": [
    "# set the x and y data to genres and score\n",
    "\n",
    "x_data = data[\"rom_com\"]\n",
    "y_data = data[\"average_rating\"]\n",
    "x_label = \"is it a RomCom\"\n",
    "y_label = \"what did it score?\"\n",
    "title = \"Does the largely male MovieLens hate Romantic Comedy?\"\n",
    "def scatterplot(x_data, y_data, x_label, y_label, title, color=\"r\", yscale_log=False):\n",
    "    _, ax = plt.subplots()\n",
    "    \n",
    "    ax.scatter(x_data, y_data, s = 3, color = color, alpha = 0.75)\n",
    "    \n",
    "    if yscale_log == True:\n",
    "        ax.set_yscale('log')\n",
    "        \n",
    "    # label the axes and provide a title\n",
    "    ax.set_title(title)\n",
    "    ax.set_xlabel(x_label)\n",
    "    ax.set_ylabel(y_label)\n",
    "    \n",
    "scatterplot(x_data, y_data, x_label, y_label, title, color=\"r\", yscale_log=False)  \n"
   ]
  },
  {
   "cell_type": "markdown",
   "metadata": {},
   "source": [
    "It doesn't entirely prove that they do, but Romantic Comedy scores slightly lower than the other genres as a whole 2.98 vs 3.09"
   ]
  },
  {
   "cell_type": "markdown",
   "metadata": {},
   "source": [
    "### Are the Top 250 movies highly regarded here? \n",
    "***\n",
    "The IMDB movies are very highly rated and regarded as some of the best of the best when it comes to the popular movie.They change -- movies come and go, the sentiments of the user changes-- but they act as a bellwether and can [sound an alarm](https://www.streamingobserver.com/netflix-35-movies-imdb-top-250/) when they aren't readily available on streaming services. "
   ]
  },
  {
   "cell_type": "code",
   "execution_count": 9,
   "metadata": {},
   "outputs": [
    {
     "data": {
      "image/png": "[encoded data removed]",
      "text/plain": [
       "<Figure size 432x288 with 1 Axes>"
      ]
     },
     "metadata": {
      "needs_background": "light"
     },
     "output_type": "display_data"
    }
   ],
   "source": [
    "# set the x and y data to imdb and score\n",
    "\n",
    "x_data = data[\"top_250\"]\n",
    "y_data = data[\"average_rating\"]\n",
    "x_label = \"is it Top 250\"\n",
    "y_label = \"how'd it do?\"\n",
    "title = \"Is the IMDB Top 250 worthwhile?\"\n",
    "\n",
    "def scatterplot(x_data, y_data, x_label, y_label, title, color=\"r\", yscale_log=False):\n",
    "    _, ax = plt.subplots()\n",
    "    \n",
    "    ax.scatter(x_data, y_data, s = 3, color = color, alpha = 0.75)\n",
    "    \n",
    "    if yscale_log == True:\n",
    "        ax.set_yscale('log')\n",
    "        \n",
    "    # label the axes and provide a title\n",
    "    ax.set_title(title)\n",
    "    ax.set_xlabel(x_label)\n",
    "    ax.set_ylabel(y_label)\n",
    "    \n",
    "scatterplot(x_data, y_data, x_label, y_label, title, color=\"r\", yscale_log=False)"
   ]
  },
  {
   "cell_type": "markdown",
   "metadata": {},
   "source": [
    "### What about Oscars? \n",
    "***\n",
    "People bemoan the politics and nepotism of the oscars, and how they don't often pick the best movies -- how did Forrest Gump beat Pulp Fiction AND The Shawshank Redemption in 1995, how did Crash beat Brokeback Mountain, Munich, AND Capote in 2006? Well... It's the opinions of a bunch of old guys who award things based off esoteric factors nobody knows. That being said, let's check if putting sand in your eyes and proclaming yourself the Oracle works (certainly what they do)."
   ]
  },
  {
   "cell_type": "code",
   "execution_count": 10,
   "metadata": {},
   "outputs": [
    {
     "data": {
      "image/png": "[encoded data removed]",
      "text/plain": [
       "<Figure size 432x288 with 1 Axes>"
      ]
     },
     "metadata": {
      "needs_background": "light"
     },
     "output_type": "display_data"
    }
   ],
   "source": [
    "x_data = data[\"num_awards\"]\n",
    "y_data = data[\"average_rating\"]\n",
    "x_label = \"Number of Awards\"\n",
    "y_label = \"how'd it do?\"\n",
    "title = \"Do oscars matter?\"\n",
    "\n",
    "def scatterplot(x_data, y_data, x_label, y_label, title, color=\"r\", yscale_log=False):\n",
    "    _, ax = plt.subplots()\n",
    "    \n",
    "    ax.scatter(x_data, y_data, s = 3, color = color, alpha = 0.75)\n",
    "    \n",
    "    if yscale_log == True:\n",
    "        ax.set_yscale('log')\n",
    "        \n",
    "    # label the axes and provide a title\n",
    "    ax.set_title(title)\n",
    "    ax.set_xlabel(x_label)\n",
    "    ax.set_ylabel(y_label)\n",
    "    \n",
    "scatterplot(x_data, y_data, x_label, y_label, title, color=\"r\", yscale_log=False)"
   ]
  },
  {
   "cell_type": "markdown",
   "metadata": {},
   "source": [
    "## Doing the experiment \n",
    "***\n",
    "\n",
    "### Choosing a model\n",
    "***\n",
    "Because Simple linear regression requires *using only one feature, it is not applicable for this project*. Many of the examples in sklearn are based off [single feature 2D plots](https://scikit-learn.org/stable/auto_examples/linear_model/plot_ols.html), so they are not applicable for this portion.<br>\n",
    "\n",
    "Resultantly, we will use a multiple linear regression model. \n"
   ]
  },
  {
   "cell_type": "code",
   "execution_count": 11,
   "metadata": {},
   "outputs": [
    {
     "data": {
      "text/plain": [
       "over_under         1.000000\n",
       "average_rating     0.719663\n",
       "imdbId_review      0.578943\n",
       "imdb_consensus     0.512604\n",
       "num_ratings        0.144732\n",
       "num_awards         0.136144\n",
       "top_250            0.071195\n",
       "classic_movie      0.054635\n",
       "num_genres         0.016224\n",
       "release_year      -0.040828\n",
       "rom_com           -0.075124\n",
       "return_document         NaN\n",
       "upsert                  NaN\n",
       "Name: over_under, dtype: float64"
      ]
     },
     "execution_count": 11,
     "metadata": {},
     "output_type": "execute_result"
    }
   ],
   "source": [
    "corr_matrix = data.corr()\n",
    "corr_matrix[\"over_under\"].sort_values(ascending=False)"
   ]
  },
  {
   "cell_type": "markdown",
   "metadata": {},
   "source": [
    "Earlier, data1 initially had only the imdb_consensus, which had a score of a Mean Squared Error of 0.16, and a variance score of 0.34. Let's see what happens if we add some features! Credit to [this post](https://bigdata-madesimple.com/how-to-run-linear-regression-in-python-scikit-learn/) for showing us how to make this work!"
   ]
  },
  {
   "cell_type": "code",
   "execution_count": 13,
   "metadata": {},
   "outputs": [
    {
     "data": {
      "text/html": [
       "<div>\n",
       "<style scoped>\n",
       "    .dataframe tbody tr th:only-of-type {\n",
       "        vertical-align: middle;\n",
       "    }\n",
       "\n",
       "    .dataframe tbody tr th {\n",
       "        vertical-align: top;\n",
       "    }\n",
       "\n",
       "    .dataframe thead th {\n",
       "        text-align: right;\n",
       "    }\n",
       "</style>\n",
       "<table border=\"1\" class=\"dataframe\">\n",
       "  <thead>\n",
       "    <tr style=\"text-align: right;\">\n",
       "      <th></th>\n",
       "      <th>imdb_consensus</th>\n",
       "      <th>num_awards</th>\n",
       "      <th>top_250</th>\n",
       "      <th>num_genres</th>\n",
       "      <th>over_under</th>\n",
       "    </tr>\n",
       "  </thead>\n",
       "  <tbody>\n",
       "    <tr>\n",
       "      <th>0</th>\n",
       "      <td>1</td>\n",
       "      <td>3</td>\n",
       "      <td>1</td>\n",
       "      <td>5</td>\n",
       "      <td>1</td>\n",
       "    </tr>\n",
       "    <tr>\n",
       "      <th>1</th>\n",
       "      <td>1</td>\n",
       "      <td>0</td>\n",
       "      <td>0</td>\n",
       "      <td>3</td>\n",
       "      <td>1</td>\n",
       "    </tr>\n",
       "    <tr>\n",
       "      <th>2</th>\n",
       "      <td>1</td>\n",
       "      <td>0</td>\n",
       "      <td>0</td>\n",
       "      <td>2</td>\n",
       "      <td>1</td>\n",
       "    </tr>\n",
       "    <tr>\n",
       "      <th>3</th>\n",
       "      <td>0</td>\n",
       "      <td>0</td>\n",
       "      <td>0</td>\n",
       "      <td>3</td>\n",
       "      <td>0</td>\n",
       "    </tr>\n",
       "    <tr>\n",
       "      <th>4</th>\n",
       "      <td>1</td>\n",
       "      <td>0</td>\n",
       "      <td>0</td>\n",
       "      <td>1</td>\n",
       "      <td>0</td>\n",
       "    </tr>\n",
       "  </tbody>\n",
       "</table>\n",
       "</div>"
      ],
      "text/plain": [
       "   imdb_consensus  num_awards  top_250  num_genres  over_under\n",
       "0               1           3        1           5           1\n",
       "1               1           0        0           3           1\n",
       "2               1           0        0           2           1\n",
       "3               0           0        0           3           0\n",
       "4               1           0        0           1           0"
      ]
     },
     "execution_count": 13,
     "metadata": {},
     "output_type": "execute_result"
    }
   ],
   "source": [
    "data1 = data[[\"imdb_consensus\", \"num_awards\", \"top_250\", \"num_genres\",  \"over_under\"]]\n",
    "data1.head()"
   ]
  },
  {
   "cell_type": "code",
   "execution_count": 14,
   "metadata": {},
   "outputs": [],
   "source": [
    "x = data1.drop('over_under', axis=1)\n",
    "y = data1['over_under'].copy()"
   ]
  },
  {
   "cell_type": "code",
   "execution_count": 15,
   "metadata": {},
   "outputs": [
    {
     "data": {
      "text/plain": [
       "pandas.core.frame.DataFrame"
      ]
     },
     "execution_count": 15,
     "metadata": {},
     "output_type": "execute_result"
    }
   ],
   "source": [
    "type(x)"
   ]
  },
  {
   "cell_type": "code",
   "execution_count": 16,
   "metadata": {},
   "outputs": [
    {
     "data": {
      "text/plain": [
       "pandas.core.series.Series"
      ]
     },
     "execution_count": 16,
     "metadata": {},
     "output_type": "execute_result"
    }
   ],
   "source": [
    "type(y)"
   ]
  },
  {
   "cell_type": "code",
   "execution_count": 17,
   "metadata": {},
   "outputs": [],
   "source": [
    "from sklearn import datasets, linear_model\n",
    "from sklearn.model_selection import train_test_split\n",
    "from sklearn.metrics import mean_squared_error, r2_score"
   ]
  },
  {
   "cell_type": "code",
   "execution_count": 18,
   "metadata": {},
   "outputs": [],
   "source": [
    "movieLens_x_train, movieLens_x_test, movieLens_y_train, movieLens_y_test = train_test_split(x, y, test_size = 0.2, random_state = 42)"
   ]
  },
  {
   "cell_type": "code",
   "execution_count": 19,
   "metadata": {},
   "outputs": [],
   "source": [
    "regr = linear_model.LinearRegression()"
   ]
  },
  {
   "cell_type": "markdown",
   "metadata": {},
   "source": [
    "Given that GridSearch didn't work out too well, let's try something else!"
   ]
  },
  {
   "cell_type": "code",
   "execution_count": 20,
   "metadata": {},
   "outputs": [
    {
     "name": "stdout",
     "output_type": "stream",
     "text": [
      "r2 / variance :  0.2717380791414038\n",
      "Residual sum of squares: 0.18\n"
     ]
    }
   ],
   "source": [
    "from sklearn import svm, datasets\n",
    "from sklearn.model_selection import GridSearchCV\n",
    "\n",
    "parameters = {'fit_intercept':[True,False], 'normalize':[True,False], 'copy_X':[True, False]}\n",
    "grid = GridSearchCV(regr, parameters, cv=3)\n",
    "grid.fit(movieLens_x_train, movieLens_y_train)\n",
    "print ((\"r2 / variance : \"), grid.best_score_)\n",
    "print(\"Residual sum of squares: %.2f\"\n",
    "              % np.mean((grid.predict(movieLens_x_train) - movieLens_y_train) ** 2))"
   ]
  },
  {
   "cell_type": "code",
   "execution_count": 21,
   "metadata": {},
   "outputs": [
    {
     "data": {
      "text/plain": [
       "LinearRegression(copy_X=True, fit_intercept=True, n_jobs=None,\n",
       "         normalize=False)"
      ]
     },
     "execution_count": 21,
     "metadata": {},
     "output_type": "execute_result"
    }
   ],
   "source": [
    "regr.fit(movieLens_x_train, movieLens_y_train)"
   ]
  },
  {
   "cell_type": "code",
   "execution_count": 22,
   "metadata": {},
   "outputs": [
    {
     "name": "stdout",
     "output_type": "stream",
     "text": [
      "Coefficients: \n",
      " [0.58981942 0.03933741 0.16146801 0.00923493]\n"
     ]
    }
   ],
   "source": [
    "# coefficients\n",
    "print('Coefficients: \\n', regr.coef_)"
   ]
  },
  {
   "cell_type": "code",
   "execution_count": 23,
   "metadata": {},
   "outputs": [],
   "source": [
    "movie_y_pred = regr.predict(movieLens_x_test)"
   ]
  },
  {
   "cell_type": "markdown",
   "metadata": {},
   "source": [
    "**PrevOld Method:\n",
    "Mean Squared Error: 0.16\n",
    "Variance score: 0.34"
   ]
  },
  {
   "cell_type": "markdown",
   "metadata": {},
   "source": [
    "## Checking the Efficacy of our Model:\n",
    "***\n",
    "To check how efficient our model was, we are going to use the Mean Squared Error, which is [the average of the square of the errors](https://www.bmc.com/blogs/mean-squared-error-r2-and-variance-in-regression-analysis/). There is an inverse relationship with the efficacy of the model -- the lower the number, the more effective, the model.\n",
    "\n",
    "We will also check the variance score -- [how far observered values differ](https://www.bmc.com/blogs/mean-squared-error-r2-and-variance-in-regression-analysis/) from the average of predicted values."
   ]
  },
  {
   "cell_type": "code",
   "execution_count": 24,
   "metadata": {},
   "outputs": [
    {
     "name": "stdout",
     "output_type": "stream",
     "text": [
      "Mean Squared Error: 0.18\n"
     ]
    }
   ],
   "source": [
    "#Print the Mean Squared Error\n",
    "print(\"Mean Squared Error: %.2f\"\n",
    "     % mean_squared_error(movieLens_y_test, movie_y_pred))"
   ]
  },
  {
   "cell_type": "code",
   "execution_count": 25,
   "metadata": {},
   "outputs": [
    {
     "name": "stdout",
     "output_type": "stream",
     "text": [
      "Variance score: 0.26\n"
     ]
    }
   ],
   "source": [
    "print('Variance score: %.2f' % r2_score(movieLens_y_test, movie_y_pred))"
   ]
  },
  {
   "cell_type": "markdown",
   "metadata": {},
   "source": [
    "Ultimately, using the IMDB Consensus is a semi-effective way to see if theres a correlation in a movie being good -- its either that the movies are just plain good, or MovieLens reviewers are IMDB reviewers."
   ]
  },
  {
   "cell_type": "markdown",
   "metadata": {},
   "source": [
    "Explain the tradeoffs you made in model selection.<br> \n",
    "  Include your model choices and hyper-parameter tuning.  (10%)\n",
    "- Must explain in detail how you evaluate the accuracy of model (10%)"
   ]
  },
  {
   "cell_type": "code",
   "execution_count": null,
   "metadata": {},
   "outputs": [],
   "source": []
  },
  {
   "cell_type": "code",
   "execution_count": null,
   "metadata": {},
   "outputs": [],
   "source": []
  },
  {
   "cell_type": "code",
   "execution_count": null,
   "metadata": {},
   "outputs": [],
   "source": []
  },
  {
   "cell_type": "markdown",
   "metadata": {},
   "source": [
    "### Special thanks to:\n",
    "***\n",
    "[Rohith Gandhi](https://towardsdatascience.com/introduction-to-machine-learning-algorithms-linear-regression-14c4e325882a) and his Linear Regression article.\n",
    "\n",
    "Mark Fisher, for inspiring our take on nostalgia.\n"
   ]
  }
 ],
 "metadata": {
  "kernelspec": {
   "display_name": "Python 3",
   "language": "python",
   "name": "python3"
  },
  "language_info": {
   "codemirror_mode": {
    "name": "ipython",
    "version": 3
   },
   "file_extension": ".py",
   "mimetype": "text/x-python",
   "name": "python",
   "nbconvert_exporter": "python",
   "pygments_lexer": "ipython3",
   "version": "3.6.2"
  }
 },
 "nbformat": 4,
 "nbformat_minor": 2
}
